{
 "cells": [
  {
   "cell_type": "code",
   "execution_count": 26,
   "id": "bffa2722",
   "metadata": {},
   "outputs": [],
   "source": [
    "import pandas as pd\n",
    "import copy"
   ]
  },
  {
   "cell_type": "code",
   "execution_count": 10,
   "id": "3b2fcfe5",
   "metadata": {},
   "outputs": [],
   "source": [
    "def custom_read_csv(path):\n",
    "    df = pd.read_csv(path)\n",
    "    df = df.dropna(subset=['tags','title'])\n",
    "    df['tags'] = df['tags'].apply(custom_tolist)\n",
    "    return df\n",
    "def custom_tolist(a): ##remove parentheses\n",
    "    newstr = a.replace(\"[\", \"\")\n",
    "    newstr = newstr.replace(\" \", \"\")\n",
    "    newstr = newstr.replace(\"]\", \"\")\n",
    "    newstr = newstr.replace(\"'\", \"\")\n",
    "    a = newstr.split(',')\n",
    "    return a"
   ]
  },
  {
   "cell_type": "code",
   "execution_count": 19,
   "id": "2b6b6ee4",
   "metadata": {},
   "outputs": [],
   "source": [
    "data = custom_read_csv(\"data/second_question.csv\")\n",
    "labels = data['tags']\n",
    "df = data.drop('tags',axis = 1)"
   ]
  },
  {
   "cell_type": "code",
   "execution_count": 29,
   "id": "ba6cc03a",
   "metadata": {},
   "outputs": [],
   "source": [
    "tags_list = data['tags'].explode().value_counts()\n",
    "tags_list_value = tags_list[:100]\n",
    "used_tag_list = tags_list.index.tolist()"
   ]
  },
  {
   "cell_type": "code",
   "execution_count": 30,
   "id": "cba9722d",
   "metadata": {},
   "outputs": [],
   "source": [
    "def baseline(title):\n",
    "    title = title.lower()\n",
    "    if('jupyter' in title):\n",
    "        return 'jupyter'\n",
    "    if( 'py' in title):\n",
    "        return 'python'\n",
    "    elif ('js' in title or 'javascript' in title):\n",
    "        return 'javascript'\n",
    "    elif ('java' in title):\n",
    "        return 'java'\n",
    "    elif ('android' in title):\n",
    "        return 'android'\n",
    "    elif ('react' in title):\n",
    "        return 'reactjs'\n",
    "    else :\n",
    "        return 'c++'"
   ]
  },
  {
   "cell_type": "code",
   "execution_count": 31,
   "id": "573cbed9",
   "metadata": {},
   "outputs": [],
   "source": [
    "predicted_tag = df['title'].apply(baseline)\n",
    "tag = pd.DataFrame({'true': labels, 'predicted': predicted_tag})"
   ]
  },
  {
   "cell_type": "code",
   "execution_count": 32,
   "id": "b644ae14",
   "metadata": {},
   "outputs": [
    {
     "name": "stdout",
     "output_type": "stream",
     "text": [
      "['php', 'oauth-2.0', 'imap']\n"
     ]
    },
    {
     "data": {
      "text/plain": [
       "0.12348484848484849"
      ]
     },
     "execution_count": 32,
     "metadata": {},
     "output_type": "execute_result"
    }
   ],
   "source": [
    "def custom_loss(tag): ##if we find one good corrrespnding label we consider it right\n",
    "    print(tag['true'].iloc[1])\n",
    "    loss_list = tag.apply(lambda x: x['predicted'] in x['true'], axis=1)\n",
    "    return loss_list.value_counts()[True]/len(loss_list)\n",
    "custom_loss(tag)"
   ]
  },
  {
   "cell_type": "markdown",
   "id": "f6ce2730",
   "metadata": {},
   "source": [
    "# deuxième baseline en regardant si le tag est dans le titre"
   ]
  },
  {
   "cell_type": "code",
   "execution_count": 33,
   "id": "5cd9357c",
   "metadata": {},
   "outputs": [],
   "source": [
    "def title_in_list_of_word(df):#transforme une phrase en liste de mots\n",
    "    df2 = copy.copy(df)\n",
    "    df2['title'] = df['title'].apply(title_tolist)\n",
    "    return df2\n",
    "def title_tolist(title):\n",
    "    newstr = title.replace(\",\", \"\")\n",
    "    newstr = newstr.replace(\";\", \"\")\n",
    "    newstr = newstr.replace(\".\", \"\")\n",
    "    newstr = newstr.lower()\n",
    "    newstr = newstr.replace(\"'\", \"\")\n",
    "    a = newstr.split(' ')\n",
    "    return a\n",
    "def and_function(a,tags_list):\n",
    "    return list(set(a) & set(tags_list))\n",
    "def check_every_tag(dataframe,tags_list):#si on trouve dans le titre un tag on l'ajoute\n",
    "    dataframe['predicted_tag'] = dataframe['title'].apply(and_function,args=([tags_list]))\n",
    "    return dataframe"
   ]
  },
  {
   "cell_type": "code",
   "execution_count": 50,
   "id": "085746b6",
   "metadata": {},
   "outputs": [],
   "source": [
    "def custom_loss_2(predicted,supposed):#si le premier élement prédit est présent dans la liste on donne \n",
    "    #le score maximal (pour pouvoir comparer avec le random forest)\n",
    "    score = 0\n",
    "    for i in range(len(predicted)):\n",
    "        if len(predicted[i]) != 0 and predicted[i][0] in supposed[i]: \n",
    "            score+=1\n",
    "    return score/len(predicted)"
   ]
  },
  {
   "cell_type": "code",
   "execution_count": 51,
   "id": "944e61a8",
   "metadata": {},
   "outputs": [
    {
     "data": {
      "text/plain": [
       "0.5446969696969697"
      ]
     },
     "execution_count": 51,
     "metadata": {},
     "output_type": "execute_result"
    }
   ],
   "source": [
    "#print(df['title'].iloc[0])\n",
    "df2 = title_in_list_of_word(df)\n",
    "#print(df2['title'].iloc[0])\n",
    "df2 = check_every_tag(df2,used_tag_list)\n",
    "custom_loss_2(df2['predicted_tag'],labels)\n"
   ]
  },
  {
   "cell_type": "code",
   "execution_count": null,
   "id": "fa06edbe",
   "metadata": {},
   "outputs": [],
   "source": []
  }
 ],
 "metadata": {
  "kernelspec": {
   "display_name": "Python 3 (ipykernel)",
   "language": "python",
   "name": "python3"
  },
  "language_info": {
   "codemirror_mode": {
    "name": "ipython",
    "version": 3
   },
   "file_extension": ".py",
   "mimetype": "text/x-python",
   "name": "python",
   "nbconvert_exporter": "python",
   "pygments_lexer": "ipython3",
   "version": "3.9.12"
  }
 },
 "nbformat": 4,
 "nbformat_minor": 5
}
