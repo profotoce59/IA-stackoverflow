{
 "cells": [
  {
   "cell_type": "markdown",
   "id": "ee9bd9cd",
   "metadata": {},
   "source": [
    "## Load of json file"
   ]
  },
  {
   "cell_type": "code",
   "execution_count": 1,
   "id": "290d3177",
   "metadata": {},
   "outputs": [],
   "source": [
    "import json\n",
    "import pandas as pd\n",
    "import numpy as np\n",
    "from ast import literal_eval\n",
    "import copy\n",
    "#filtrer les tags nan"
   ]
  },
  {
   "cell_type": "markdown",
   "id": "bbad443a",
   "metadata": {},
   "source": [
    "## First load"
   ]
  },
  {
   "cell_type": "code",
   "execution_count": 3,
   "id": "e0affa49",
   "metadata": {},
   "outputs": [
    {
     "name": "stdout",
     "output_type": "stream",
     "text": [
      "0       [c++, gcc, cmake, filesystems, ros]\n",
      "1                    [php, oauth-2.0, imap]\n",
      "2                        [node.js, angular]\n",
      "3                                      [go]\n",
      "4               [proxy, openwrt, mitmproxy]\n",
      "                       ...                 \n",
      "3961                                    NaN\n",
      "3962                                    NaN\n",
      "3963                                    NaN\n",
      "3964                                    NaN\n",
      "3965                                    NaN\n",
      "Name: tags, Length: 3966, dtype: object\n"
     ]
    }
   ],
   "source": [
    "f = open(r'data\\with_question.json',encoding=\"utf8\")\n",
    "   \n",
    "# returns JSON object as \n",
    "# a dictionary\n",
    "data = json.load(f)\n",
    "df = pd.json_normalize(data['items'])\n",
    "#print(df.body.tolist())\n",
    "print(df.tags)"
   ]
  },
  {
   "cell_type": "code",
   "execution_count": 4,
   "id": "8a5afa54",
   "metadata": {},
   "outputs": [
    {
     "name": "stdout",
     "output_type": "stream",
     "text": [
      "(3966, 25)\n"
     ]
    }
   ],
   "source": [
    "#df = df.dropna(subset=['tags','title'])\n",
    "df.to_csv(\"data/with_question.csv\",index=False)\n",
    "print(df.shape)\n",
    "df2 = pd.read_csv(\"data/with_question.csv\")\n",
    "#,dtype={'tags': list}\n",
    "#df2 = df2.dropna(subset=['tags','title'])\n",
    "#df.reset_index(drop=True)\n",
    "#print(type(df2.tags[0]))\n",
    "#print(type(df.tags[0]))\n",
    "out = df['tags'].explode().value_counts()\n",
    "#print(out)"
   ]
  },
  {
   "cell_type": "code",
   "execution_count": 5,
   "id": "56925810",
   "metadata": {},
   "outputs": [
    {
     "name": "stdout",
     "output_type": "stream",
     "text": [
      "(3966, 25)\n"
     ]
    }
   ],
   "source": [
    "print(df2.shape)"
   ]
  },
  {
   "cell_type": "markdown",
   "id": "7d384aa0",
   "metadata": {},
   "source": [
    "# second load"
   ]
  },
  {
   "cell_type": "code",
   "execution_count": 6,
   "id": "949e197a",
   "metadata": {},
   "outputs": [],
   "source": [
    "def custom_read_csv(path):\n",
    "    df = pd.read_csv(path)\n",
    "    df = df.dropna(subset=['tags','title'])\n",
    "    df['tags'] = df['tags'].apply(custom_tolist)\n",
    "    return df\n",
    "def custom_tolist(a): ##remove parentheses\n",
    "    newstr = a.replace(\"[\", \"\")\n",
    "    newstr = newstr.replace(\" \", \"\")\n",
    "    newstr = newstr.replace(\"]\", \"\")\n",
    "    newstr = newstr.replace(\"'\", \"\")\n",
    "    a = newstr.split(',')\n",
    "    return a"
   ]
  },
  {
   "cell_type": "code",
   "execution_count": 7,
   "id": "bca8957a",
   "metadata": {},
   "outputs": [
    {
     "name": "stdout",
     "output_type": "stream",
     "text": [
      "Index(['tags', 'is_answered', 'view_count', 'closed_date', 'answer_count',\n",
      "       'score', 'last_activity_date', 'creation_date', 'question_id', 'link',\n",
      "       'closed_reason', 'title', 'body', 'owner.account_id',\n",
      "       'owner.reputation', 'owner.user_id', 'owner.user_type',\n",
      "       'owner.profile_image', 'owner.display_name', 'owner.link',\n",
      "       'last_edit_date', 'content_license', 'answers', 'accepted_answer_id',\n",
      "       'owner.accept_rate'],\n",
      "      dtype='object')\n"
     ]
    }
   ],
   "source": [
    "\n",
    "\n",
    "path = \"data/with_question.csv\"\n",
    "#save(path,df)\n",
    "df = custom_read_csv(path)\n",
    "df.to_csv(\"data/second_question.csv\",index=False)\n",
    "df = custom_read_csv(\"data/second_question.csv\")\n",
    "print(df.columns)"
   ]
  },
  {
   "cell_type": "code",
   "execution_count": 8,
   "id": "ea52f0e7",
   "metadata": {},
   "outputs": [
    {
     "name": "stdout",
     "output_type": "stream",
     "text": [
      "python          642\n",
      "node.js         396\n",
      "sql             349\n",
      "java            287\n",
      "angular         264\n",
      "dataframe       243\n",
      "mysql           224\n",
      "c++             222\n",
      "r               217\n",
      "c               172\n",
      "cmake           150\n",
      "go              132\n",
      "ios             132\n",
      "r-markdown      132\n",
      "ros             132\n",
      "python-3.x      132\n",
      "proxy           132\n",
      "nagios          132\n",
      "eventhandler    132\n",
      "oracle          132\n",
      "Name: tags, dtype: int64\n"
     ]
    }
   ],
   "source": [
    "tags_list = df['tags'].explode().value_counts()\n",
    "tags_list_value = tags_list[:100]\n",
    "used_tag_list = tags_list.index.tolist()\n",
    "print(tags_list_value.head(20))"
   ]
  },
  {
   "cell_type": "markdown",
   "id": "d9c8ae38",
   "metadata": {},
   "source": [
    "## Baseline"
   ]
  },
  {
   "cell_type": "code",
   "execution_count": 10,
   "id": "13448797",
   "metadata": {},
   "outputs": [],
   "source": [
    "labels = df['tags']\n",
    "df = df.drop('tags',axis = 1)"
   ]
  },
  {
   "cell_type": "code",
   "execution_count": null,
   "id": "7862e0bf",
   "metadata": {},
   "outputs": [],
   "source": []
  },
  {
   "cell_type": "code",
   "execution_count": 11,
   "id": "02cbd9af",
   "metadata": {},
   "outputs": [],
   "source": [
    "def baseline(title):\n",
    "    title = title.lower()\n",
    "    if('jupyter' in title):\n",
    "        return 'jupyter'\n",
    "    if( 'py' in title):\n",
    "        return 'python'\n",
    "    elif ('js' in title or 'javascript' in title):\n",
    "        return 'javascript'\n",
    "    elif ('java' in title):\n",
    "        return 'java'\n",
    "    elif ('android' in title):\n",
    "        return 'android'\n",
    "    elif ('react' in title):\n",
    "        return 'reactjs'\n",
    "    else :\n",
    "        return 'c++'"
   ]
  },
  {
   "cell_type": "code",
   "execution_count": 12,
   "id": "f6c22ed0",
   "metadata": {},
   "outputs": [],
   "source": [
    "predicted_tag = df['title'].apply(baseline)\n",
    "tag = pd.DataFrame({'true': labels, 'predicted': predicted_tag})"
   ]
  },
  {
   "cell_type": "code",
   "execution_count": 15,
   "id": "cedb772a",
   "metadata": {},
   "outputs": [
    {
     "name": "stdout",
     "output_type": "stream",
     "text": [
      "                                                 true   predicted\n",
      "0                 [c++, gcc, cmake, filesystems, ros]         c++\n",
      "1                              [php, oauth-2.0, imap]         c++\n",
      "2                                  [node.js, angular]         c++\n",
      "3                                                [go]         c++\n",
      "4                         [proxy, openwrt, mitmproxy]         c++\n",
      "5   [javascript, node.js, express, dictionary, fil...  javascript\n",
      "6                                 [angular, electron]         c++\n",
      "7              [mysql, sql, database, auto-increment]         c++\n",
      "8   [wordpress, google-apps-script, plugins, insta...         c++\n",
      "9            [networking, lxc, linux-containers, lxd]         c++\n",
      "10                                    [r, r-markdown]         c++\n",
      "11                               [python, python-3.x]         c++\n",
      "12                     [expect, nagios, eventhandler]         c++\n",
      "13                                      [sql, oracle]         c++\n",
      "14  [ios, xcode, push-notification, xcode6, apple-...         c++\n",
      "15                                  [python, clearml]         c++\n",
      "16               [java, spring, spring-boot, logging]         c++\n",
      "17               [python, dataframe, plot, holoviews]         c++\n",
      "18                                  [.htaccess, ddos]         c++\n",
      "19                                  [swift, avplayer]         c++\n",
      "0     How to add LDflags like &quot;-lstdc++fs&quot;...\n",
      "1     Como implementar no imap_open do PHP o OAuth 2...\n",
      "2     How to implements @HostListener with event mou...\n",
      "3     program needs to process data with spaces and ...\n",
      "4     Redirect OpenWrt outbound traffic to external ...\n",
      "5     How to upload and retrieve dict data from seve...\n",
      "6     Angular 4 + Electron - How to run application ...\n",
      "7        Set AutoIncrement value with Subquery in MySQL\n",
      "8     I developed a Instagram Story Downloader websi...\n",
      "9     LXD Error: Failed start validation for device ...\n",
      "10    Reducing space between successive lines in Rma...\n",
      "11       Get the Sum of the Values of Letters in a Name\n",
      "12    expect script by nagios event handler failing ...\n",
      "13    oracle sql update table when joining to anothe...\n",
      "14    didReceiveRemoteNotification not working in th...\n",
      "15    How to make ClearML not upload annotations twi...\n",
      "16                    three questions logging in spring\n",
      "17    holoviews - Overlap plots with different y scales\n",
      "18    Apache attack returning a 302 when it should b...\n",
      "19         How to remove the live text from an AVPlayer\n",
      "Name: title, dtype: object\n"
     ]
    }
   ],
   "source": [
    "print(tag.head(20))\n",
    "print(df.title.head(20))"
   ]
  },
  {
   "cell_type": "code",
   "execution_count": 16,
   "id": "feea69d3",
   "metadata": {},
   "outputs": [
    {
     "name": "stdout",
     "output_type": "stream",
     "text": [
      "['php', 'oauth-2.0', 'imap']\n"
     ]
    },
    {
     "data": {
      "text/plain": [
       "0.12348484848484849"
      ]
     },
     "execution_count": 16,
     "metadata": {},
     "output_type": "execute_result"
    }
   ],
   "source": [
    "def custom_loss(tag): ##if we find one good corrrespnding label we consider it right\n",
    "    print(tag['true'].iloc[1])\n",
    "    loss_list = tag.apply(lambda x: x['predicted'] in x['true'], axis=1)\n",
    "    return loss_list.value_counts()[True]/len(loss_list)\n",
    "custom_loss(tag)"
   ]
  },
  {
   "cell_type": "markdown",
   "id": "394d83e8",
   "metadata": {},
   "source": [
    "## Deeper"
   ]
  },
  {
   "cell_type": "code",
   "execution_count": 20,
   "id": "fa510ee4",
   "metadata": {},
   "outputs": [],
   "source": [
    "def title_in_list_of_word(df):\n",
    "    df2 = copy.copy(df)\n",
    "    df2['title'] = df['title'].apply(title_tolist)\n",
    "    return df2\n",
    "def title_tolist(title):\n",
    "    newstr = title.replace(\",\", \"\")\n",
    "    newstr = newstr.replace(\";\", \"\")\n",
    "    newstr = newstr.replace(\".\", \"\")\n",
    "    newstr = newstr.lower()\n",
    "    newstr = newstr.replace(\"'\", \"\")\n",
    "    a = newstr.split(' ')\n",
    "    return a\n",
    "def and_function(a,tags_list):\n",
    "    #print(a)\n",
    "    return list(set(a) & set(tags_list))\n",
    "def check_every_tag(dataframe,tags_list):\n",
    "    #print(df['title'],tags_list)\n",
    "    dataframe['predicted_tag'] = dataframe['title'].apply(and_function,args=([tags_list]))\n",
    "    #print(dataframe)\n",
    "    return dataframe\n",
    "\n",
    "\n",
    "        "
   ]
  },
  {
   "cell_type": "code",
   "execution_count": 21,
   "id": "0efc9438",
   "metadata": {},
   "outputs": [
    {
     "name": "stdout",
     "output_type": "stream",
     "text": [
      "      is_answered  view_count   closed_date  answer_count  score  \\\n",
      "0           False         8.0  1.666803e+09           0.0    0.0   \n",
      "1           False         7.0  1.666803e+09           0.0   -2.0   \n",
      "2           False         3.0           NaN           0.0    0.0   \n",
      "3           False        34.0           NaN           2.0    0.0   \n",
      "4           False         2.0           NaN           0.0    0.0   \n",
      "...           ...         ...           ...           ...    ...   \n",
      "3955         True        29.0           NaN           2.0   -2.0   \n",
      "3956        False         2.0           NaN           0.0    0.0   \n",
      "3957        False         4.0           NaN           0.0    0.0   \n",
      "3958         True     42385.0           NaN           8.0   45.0   \n",
      "3959        False        17.0           NaN           1.0    0.0   \n",
      "\n",
      "      last_activity_date  creation_date  question_id  \\\n",
      "0           1.666803e+09   1.666802e+09   74211348.0   \n",
      "1           1.666803e+09   1.666803e+09   74211392.0   \n",
      "2           1.666803e+09   1.666803e+09   74211472.0   \n",
      "3           1.666803e+09   1.666783e+09   74206943.0   \n",
      "4           1.666803e+09   1.666803e+09   74211471.0   \n",
      "...                  ...            ...          ...   \n",
      "3955        1.666803e+09   1.666742e+09   74201258.0   \n",
      "3956        1.666803e+09   1.666803e+09   74211465.0   \n",
      "3957        1.666803e+09   1.666802e+09   74211161.0   \n",
      "3958        1.666803e+09   1.437039e+09   31450403.0   \n",
      "3959        1.666803e+09   1.663158e+09   73716806.0   \n",
      "\n",
      "                                                   link  \\\n",
      "0     https://stackoverflow.com/questions/74211348/h...   \n",
      "1     https://stackoverflow.com/questions/74211392/c...   \n",
      "2     https://stackoverflow.com/questions/74211472/h...   \n",
      "3     https://stackoverflow.com/questions/74206943/p...   \n",
      "4     https://stackoverflow.com/questions/74211471/r...   \n",
      "...                                                 ...   \n",
      "3955  https://stackoverflow.com/questions/74201258/g...   \n",
      "3956  https://stackoverflow.com/questions/74211465/e...   \n",
      "3957  https://stackoverflow.com/questions/74211161/o...   \n",
      "3958  https://stackoverflow.com/questions/31450403/d...   \n",
      "3959  https://stackoverflow.com/questions/73716806/h...   \n",
      "\n",
      "                 closed_reason  ... owner.user_type  \\\n",
      "0                    Duplicate  ...      registered   \n",
      "1     Needs details or clarity  ...      registered   \n",
      "2                          NaN  ...      registered   \n",
      "3                          NaN  ...      registered   \n",
      "4                          NaN  ...      registered   \n",
      "...                        ...  ...             ...   \n",
      "3955                       NaN  ...      registered   \n",
      "3956                       NaN  ...      registered   \n",
      "3957                       NaN  ...      registered   \n",
      "3958                       NaN  ...      registered   \n",
      "3959                       NaN  ...      registered   \n",
      "\n",
      "                                    owner.profile_image  owner.display_name  \\\n",
      "0     https://lh3.googleusercontent.com/-tdUXeh6oqX4...  Nagarjun Vinukonda   \n",
      "1     https://www.gravatar.com/avatar/f7def01f964411...             aplirio   \n",
      "2     https://graph.facebook.com/10206213940730864/p...      Arnaldo Junior   \n",
      "3     https://www.gravatar.com/avatar/03c43db927e8b4...            zacharyy   \n",
      "4     https://www.gravatar.com/avatar/26e7543e459f0b...           riemannzz   \n",
      "...                                                 ...                 ...   \n",
      "3955  https://www.gravatar.com/avatar/465efd5be91f01...               Felix   \n",
      "3956      https://i.stack.imgur.com/BShIF.jpg?s=256&g=1         SinaOwolabi   \n",
      "3957  https://www.gravatar.com/avatar/bf8035970589d7...                sm86   \n",
      "3958  https://www.gravatar.com/avatar/6780924de59556...         YogevSitton   \n",
      "3959  https://www.gravatar.com/avatar/e3e07b09128f88...              Gulzar   \n",
      "\n",
      "                                             owner.link  last_edit_date  \\\n",
      "0     https://stackoverflow.com/users/13868687/nagar...             NaN   \n",
      "1      https://stackoverflow.com/users/20341472/aplirio    1.666803e+09   \n",
      "2     https://stackoverflow.com/users/18238656/arnal...             NaN   \n",
      "3     https://stackoverflow.com/users/20267588/zacharyy             NaN   \n",
      "4     https://stackoverflow.com/users/4180696/riemannzz             NaN   \n",
      "...                                                 ...             ...   \n",
      "3955     https://stackoverflow.com/users/20055656/felix    1.666803e+09   \n",
      "3956  https://stackoverflow.com/users/4237567/sinaow...             NaN   \n",
      "3957      https://stackoverflow.com/users/13090719/sm86    1.666803e+09   \n",
      "3958  https://stackoverflow.com/users/915824/yogevsi...             NaN   \n",
      "3959      https://stackoverflow.com/users/913098/gulzar             NaN   \n",
      "\n",
      "     content_license                                            answers  \\\n",
      "0                NaN                                                NaN   \n",
      "1                NaN                                                NaN   \n",
      "2       CC BY-SA 4.0                                                NaN   \n",
      "3                NaN  [{'owner': {'account_id': 3610250, 'reputation...   \n",
      "4       CC BY-SA 4.0                                                NaN   \n",
      "...              ...                                                ...   \n",
      "3955             NaN  [{'owner': {'account_id': 19656106, 'reputatio...   \n",
      "3956    CC BY-SA 4.0                                                NaN   \n",
      "3957    CC BY-SA 4.0                                                NaN   \n",
      "3958             NaN  [{'owner': {'account_id': 291740, 'reputation'...   \n",
      "3959             NaN  [{'owner': {'account_id': 16181403, 'reputatio...   \n",
      "\n",
      "     accepted_answer_id owner.accept_rate     predicted_tag  \n",
      "0                   NaN               NaN                []  \n",
      "1                   NaN               NaN             [php]  \n",
      "2                   NaN               NaN         [angular]  \n",
      "3                   NaN               NaN                []  \n",
      "4                   NaN               NaN  [openwrt, proxy]  \n",
      "...                 ...               ...               ...  \n",
      "3955         74201295.0               NaN                []  \n",
      "3956                NaN              72.0  [nagios, expect]  \n",
      "3957                NaN               NaN     [sql, oracle]  \n",
      "3958         31450953.0              45.0                []  \n",
      "3959                NaN              50.0         [clearml]  \n",
      "\n",
      "[3960 rows x 25 columns]\n"
     ]
    }
   ],
   "source": [
    "#print(df['title'].iloc[0])\n",
    "df2 = title_in_list_of_word(df)\n",
    "#print(df2['title'].iloc[0])\n",
    "df2 = check_every_tag(df2,used_tag_list)\n",
    "print(df2)"
   ]
  },
  {
   "cell_type": "code",
   "execution_count": null,
   "id": "e087dd7f",
   "metadata": {},
   "outputs": [],
   "source": []
  }
 ],
 "metadata": {
  "kernelspec": {
   "display_name": "Python 3 (ipykernel)",
   "language": "python",
   "name": "python3"
  },
  "language_info": {
   "codemirror_mode": {
    "name": "ipython",
    "version": 3
   },
   "file_extension": ".py",
   "mimetype": "text/x-python",
   "name": "python",
   "nbconvert_exporter": "python",
   "pygments_lexer": "ipython3",
   "version": "3.9.12"
  }
 },
 "nbformat": 4,
 "nbformat_minor": 5
}
