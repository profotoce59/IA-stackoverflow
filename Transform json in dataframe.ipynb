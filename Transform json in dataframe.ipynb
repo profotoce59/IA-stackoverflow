{
 "cells": [
  {
   "cell_type": "markdown",
   "id": "ee9bd9cd",
   "metadata": {},
   "source": [
    "## Load of json file"
   ]
  },
  {
   "cell_type": "code",
   "execution_count": 1,
   "id": "290d3177",
   "metadata": {},
   "outputs": [],
   "source": [
    "import json\n",
    "import pandas as pd\n",
    "import numpy as np\n",
    "from ast import literal_eval\n",
    "import copy\n",
    "#filtrer les tags nan"
   ]
  },
  {
   "cell_type": "markdown",
   "id": "bbad443a",
   "metadata": {},
   "source": [
    "## First load"
   ]
  },
  {
   "cell_type": "code",
   "execution_count": 2,
   "id": "e0affa49",
   "metadata": {},
   "outputs": [
    {
     "name": "stdout",
     "output_type": "stream",
     "text": [
      "0       [c++, gcc, cmake, filesystems, ros]\n",
      "1                    [php, oauth-2.0, imap]\n",
      "2                        [node.js, angular]\n",
      "3                                      [go]\n",
      "4               [proxy, openwrt, mitmproxy]\n",
      "                       ...                 \n",
      "3961                                    NaN\n",
      "3962                                    NaN\n",
      "3963                                    NaN\n",
      "3964                                    NaN\n",
      "3965                                    NaN\n",
      "Name: tags, Length: 3966, dtype: object\n"
     ]
    }
   ],
   "source": [
    "f = open(r'data\\with_question.json',encoding=\"utf8\")\n",
    "   \n",
    "# returns JSON object as \n",
    "# a dictionary\n",
    "data = json.load(f)\n",
    "df = pd.json_normalize(data['items'])\n",
    "#print(df.body.tolist())\n",
    "print(df.tags)"
   ]
  },
  {
   "cell_type": "code",
   "execution_count": 3,
   "id": "8a5afa54",
   "metadata": {},
   "outputs": [
    {
     "name": "stdout",
     "output_type": "stream",
     "text": [
      "(3966, 25)\n"
     ]
    }
   ],
   "source": [
    "#df = df.dropna(subset=['tags','title'])\n",
    "df.to_csv(\"data/with_question.csv\",index=False)\n",
    "print(df.shape)\n",
    "df2 = pd.read_csv(\"data/with_question.csv\")\n",
    "#,dtype={'tags': list}\n",
    "#df2 = df2.dropna(subset=['tags','title'])\n",
    "#df.reset_index(drop=True)\n",
    "#print(type(df2.tags[0]))\n",
    "#print(type(df.tags[0]))\n",
    "out = df['tags'].explode().value_counts()\n",
    "#print(out)"
   ]
  },
  {
   "cell_type": "code",
   "execution_count": 4,
   "id": "56925810",
   "metadata": {},
   "outputs": [
    {
     "name": "stdout",
     "output_type": "stream",
     "text": [
      "(3966, 25)\n"
     ]
    }
   ],
   "source": [
    "print(df2.shape)"
   ]
  },
  {
   "cell_type": "markdown",
   "id": "7d384aa0",
   "metadata": {},
   "source": [
    "# second load"
   ]
  },
  {
   "cell_type": "code",
   "execution_count": 5,
   "id": "949e197a",
   "metadata": {},
   "outputs": [],
   "source": [
    "def custom_read_csv(path):\n",
    "    df = pd.read_csv(path)\n",
    "    df = df.dropna(subset=['tags','title'])\n",
    "    df['tags'] = df['tags'].apply(custom_tolist)\n",
    "    return df\n",
    "def custom_tolist(a): ##remove parentheses\n",
    "    newstr = a.replace(\"[\", \"\")\n",
    "    newstr = newstr.replace(\" \", \"\")\n",
    "    newstr = newstr.replace(\"]\", \"\")\n",
    "    newstr = newstr.replace(\"'\", \"\")\n",
    "    a = newstr.split(',')\n",
    "    return a"
   ]
  },
  {
   "cell_type": "code",
   "execution_count": 6,
   "id": "bca8957a",
   "metadata": {},
   "outputs": [
    {
     "name": "stdout",
     "output_type": "stream",
     "text": [
      "Index(['tags', 'is_answered', 'view_count', 'closed_date', 'answer_count',\n",
      "       'score', 'last_activity_date', 'creation_date', 'question_id', 'link',\n",
      "       'closed_reason', 'title', 'body', 'owner.account_id',\n",
      "       'owner.reputation', 'owner.user_id', 'owner.user_type',\n",
      "       'owner.profile_image', 'owner.display_name', 'owner.link',\n",
      "       'last_edit_date', 'content_license', 'answers', 'accepted_answer_id',\n",
      "       'owner.accept_rate'],\n",
      "      dtype='object')\n"
     ]
    }
   ],
   "source": [
    "\n",
    "\n",
    "path = \"data/with_question.csv\"\n",
    "#save(path,df)\n",
    "df = custom_read_csv(path)\n",
    "#df.to_csv(\"data/second_question.csv\",index=False)\n",
    "df = custom_read_csv(\"data/second_question.csv\")\n",
    "print(df.columns)"
   ]
  },
  {
   "cell_type": "code",
   "execution_count": 7,
   "id": "ea52f0e7",
   "metadata": {},
   "outputs": [
    {
     "name": "stdout",
     "output_type": "stream",
     "text": [
      "python             642\n",
      "node.js            396\n",
      "sql                349\n",
      "java               287\n",
      "angular            264\n",
      "                  ... \n",
      "dynamic-linking     18\n",
      "openmp              18\n",
      "class               13\n",
      "constructor         13\n",
      "getter-setter       13\n",
      "Name: tags, Length: 111, dtype: int64\n"
     ]
    }
   ],
   "source": [
    "tags_list = df['tags'].explode().value_counts()\n",
    "tags_list_value = tags_list[:100]\n",
    "used_tag_list = tags_list.index.tolist()\n",
    "print(tags_list)"
   ]
  }
 ],
 "metadata": {
  "kernelspec": {
   "display_name": "Python 3 (ipykernel)",
   "language": "python",
   "name": "python3"
  },
  "language_info": {
   "codemirror_mode": {
    "name": "ipython",
    "version": 3
   },
   "file_extension": ".py",
   "mimetype": "text/x-python",
   "name": "python",
   "nbconvert_exporter": "python",
   "pygments_lexer": "ipython3",
   "version": "3.9.12"
  }
 },
 "nbformat": 4,
 "nbformat_minor": 5
}
